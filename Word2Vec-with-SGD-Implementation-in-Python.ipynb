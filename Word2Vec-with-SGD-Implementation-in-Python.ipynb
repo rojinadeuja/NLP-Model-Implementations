{
 "cells": [
  {
   "cell_type": "markdown",
   "metadata": {},
   "source": [
    "## Import Required Modules"
   ]
  },
  {
   "cell_type": "code",
   "execution_count": 2,
   "metadata": {},
   "outputs": [
    {
     "name": "stderr",
     "output_type": "stream",
     "text": [
      "[nltk_data] Downloading package stopwords to\n",
      "[nltk_data]     C:\\Users\\rojin\\AppData\\Roaming\\nltk_data...\n",
      "[nltk_data]   Package stopwords is already up-to-date!\n"
     ]
    },
    {
     "data": {
      "text/plain": [
       "True"
      ]
     },
     "execution_count": 2,
     "metadata": {},
     "output_type": "execute_result"
    }
   ],
   "source": [
    "import numpy as np\n",
    "import string\n",
    "from nltk.corpus import stopwords\n",
    "import nltk\n",
    "nltk.download('stopwords')"
   ]
  },
  {
   "cell_type": "markdown",
   "metadata": {},
   "source": [
    "## Softmax Activation Function"
   ]
  },
  {
   "cell_type": "code",
   "execution_count": 3,
   "metadata": {},
   "outputs": [],
   "source": [
    "def softmax(x):\n",
    "    '''Function to compute the Softmax values for each sets of scores in x. This implementation provides better numerical stability.'''\n",
    "    e_x = np.exp(x - np.max(x))\n",
    "    return e_x / e_x.sum(axis=0)\n",
    "\n",
    "def softmax_1(x):\n",
    "    '''Function to compute the Softmax values for each sets of scores in x'''\n",
    "    e_x = np.exp(x)\n",
    "    return e_x / np.sum(e_x, axis=0)"
   ]
  },
  {
   "cell_type": "markdown",
   "metadata": {},
   "source": [
    "## One Hot Encoding"
   ]
  },
  {
   "cell_type": "code",
   "execution_count": 4,
   "metadata": {},
   "outputs": [],
   "source": [
    "def onehotencoding(self, word):\n",
    "    '''Function to covert a word to one-hot-encoded value'''\n",
    "    word_vec = [0 for i in range(0, self.v_count)]\n",
    "    word_index = self.word_index[word]\n",
    "    word_vec[word_index] = 1\n",
    "    return word_vec"
   ]
  },
  {
   "cell_type": "markdown",
   "metadata": {},
   "source": [
    "## Word2Vec"
   ]
  },
  {
   "cell_type": "code",
   "execution_count": 65,
   "metadata": {},
   "outputs": [],
   "source": [
    "class word2vec():\n",
    "    '''Implementation of Skip-Gram Word2Vec model'''\n",
    "    def __init__(self):\n",
    "        self.N = 10\n",
    "        self.X_train = []\n",
    "        self.y_train = []\n",
    "        \n",
    "        self.window_size = 2\n",
    "        self.learning_rate = 0.01\n",
    "        \n",
    "        self.words = []\n",
    "        self.word_index = {}\n",
    "    \n",
    "    def initialize(self, V, data):\n",
    "        '''Function to initialze the neural network'''\n",
    "        self.V = V\n",
    "        self.W = np.random.uniform(-0.8, 0.8, (self.V, self.N))\n",
    "        self.W1 = np.random.uniform(-0.8, 0.8, (self.N, self.V))\n",
    "        self.words = data\n",
    "        \n",
    "        for i in range(len(data)):\n",
    "            self.word_index[data[i]] = i\n",
    "        \n",
    "        print('\\n----INITIALIZE FUNCTION------')\n",
    "        print('\\nSize of W and W1 are: ', self.W.shape, self.W1.shape)\n",
    "            \n",
    "            \n",
    "    def feed_forward(self, X):\n",
    "        '''Function for feed-forward step'''\n",
    "        self.h = np.dot(self.W.T, X).reshape(self.N, 1) \n",
    "        self.u = np.dot(self.W1.T, self.h)\n",
    "        self.y = softmax(self.u) \n",
    "        print('\\n----FEEDFORWARD FUNCTION------')\n",
    "        print('\\nSize of y is: ', self.y.shape)\n",
    "        return self.y\n",
    "    \n",
    "    def backpropagate(self, x, t):\n",
    "        '''Function for back propagation using Stochastic Gradient Descent step'''\n",
    "        e = self.y - np.asarray(t).reshape(self.V, 1) #e.shape is V X 1\n",
    "        \n",
    "        # Calculate partial derivative of loss function wrt W1\n",
    "        dEdW1 = np.dot(self.h, e.T)\n",
    "        \n",
    "        X = np.array(x).reshape(self.V, 1)\n",
    "        \n",
    "        # Calculate partial derivative of loss function wrt W\n",
    "        dEdW = np.dot(X, np.dot(self.W1, e).T)\n",
    "        \n",
    "        # Update the weights\n",
    "        self.W1 = self.W1 - self.learning_rate * dEdW1\n",
    "        self.W = self.W - self.learning_rate * dEdW\n",
    "    \n",
    "    def train(self, learning_rate = 0.01, epochs= 100):\n",
    "        \n",
    "        self.learning_rate = learning_rate\n",
    "        self.epochs = epochs\n",
    "        \n",
    "        '''Function to train the Word2Vec model'''\n",
    "        \n",
    "        # Generate Training data\n",
    "        generate_training_data(training_data,w2v)\n",
    "        \n",
    "        X_real = self.X_train\n",
    "        y_real = self.y_train\n",
    "              \n",
    "        # Loop through each epoch\n",
    "        for Pass in range(1,epochs):\n",
    "                \n",
    "            # Pick a random index\n",
    "            index = np.random.randint(y_real)\n",
    "            print(index)\n",
    "            \n",
    "            # Pick a row from that index\n",
    "            X_train = X_real[index]\n",
    "            y_train = y_real[index]\n",
    "            \n",
    "            # Initialize Loss\n",
    "            self.loss = 0\n",
    "            \n",
    "            # Forward Pass\n",
    "            self.feed_forward(X_train)\n",
    "                \n",
    "            # Backpropagation\n",
    "            self.backpropagate(X_train, y_train)\n",
    "                \n",
    "            C = 0\n",
    "            for m in range(self.V): \n",
    "                if(y_train[m]): \n",
    "                    self.loss += -1*self.u[m][0] \n",
    "                    C += 1\n",
    "                        \n",
    "            # Calculate Loss        \n",
    "            self.loss += C * np.log(np.sum(np.exp(self.u)))\n",
    "                \n",
    "            print(\"Epoch: \", Pass, \" Loss: \", self.loss)\n",
    "            \n",
    "            #self.alpha *= 1/((1+self.alpha*Pass))\n",
    "            \n",
    "    def predict(self, word, number_of_predictions):\n",
    "        '''Function to predict context words using Word2Vec model'''\n",
    "        # Check if word is contained in the dictionary\n",
    "        if word in self.words: \n",
    "            index = self.word_index[word] \n",
    "            X = [0 for i in range(self.V)] \n",
    "            X[index] = 1\n",
    "            prediction = self.feed_forward(X)\n",
    "            output = {} \n",
    "            for i in range(self.V): \n",
    "                output[prediction[i][0]] = i\n",
    "                \n",
    "            # Sort top context words in the output    \n",
    "            sorted_output = [] \n",
    "            for k in sorted(output, reverse=True): \n",
    "                sorted_output.append(self.words[output[k]]) \n",
    "                if(len(sorted_output)>=number_of_predictions): \n",
    "                    break\n",
    "            return sorted_output \n",
    "        else: \n",
    "            print(\"Error: Word not found in dicitonary\")\n",
    "    "
   ]
  },
  {
   "cell_type": "markdown",
   "metadata": {},
   "source": [
    "## Data Preprocessing"
   ]
  },
  {
   "cell_type": "code",
   "execution_count": 47,
   "metadata": {},
   "outputs": [],
   "source": [
    "def preprocessing(corpus):\n",
    "    '''Function for data preprocessing'''\n",
    "    processed = []\n",
    "    stop_words = stopwords.words('english')\n",
    "    \n",
    "    # Split text corpus into sentences\n",
    "    sentences = corpus.split(\".\")\n",
    "    \n",
    "    # Loop through each sentence\n",
    "    for i in range(len(sentences)):\n",
    "        \n",
    "        # Remove leading and trailing characters\n",
    "        sentences[i] = sentences[i].strip()\n",
    "        \n",
    "        # Split sentence into list of words\n",
    "        sentence = sentences[i].split()\n",
    "        \n",
    "        # Remove punctuations\n",
    "        x = [word.strip(string.punctuation) for word in sentence if word not in stop_words]\n",
    "        \n",
    "        # Convert to lower case\n",
    "        x = [word.lower() for word in x]\n",
    "        \n",
    "        processed.append(x) \n",
    "        \n",
    "    return processed    "
   ]
  },
  {
   "cell_type": "markdown",
   "metadata": {},
   "source": [
    "## Train the Model"
   ]
  },
  {
   "cell_type": "code",
   "execution_count": 70,
   "metadata": {},
   "outputs": [],
   "source": [
    "def generate_training_data(sentences, w2v):\n",
    "    '''Function to generate training data for Word2Vec'''\n",
    "    \n",
    "    print('\\n------GENERATE TRANING DATA------')\n",
    "    \n",
    "    data = {}\n",
    "    \n",
    "    # Loop throuch each sentence\n",
    "    for sentence in sentences:\n",
    "        \n",
    "        # Loop through each word\n",
    "        for word in sentence:\n",
    "            if word not in data: \n",
    "                data[word] = 1\n",
    "            else: \n",
    "                data[word] += 1\n",
    "                \n",
    "    V = len(data) # Size of Vocabulary\n",
    "    data = sorted(list(data.keys()))\n",
    "    \n",
    "    vocab = {}\n",
    "    \n",
    "    # Store words into vocabulary\n",
    "    for i in range(len(data)): \n",
    "        vocab[data[i]] = i \n",
    "    \n",
    "    print('\\nVocabulary is:', vocab, '\\n')\n",
    "    print('\\nVocabulary size is (V):', len(vocab),'\\n')\n",
    "    \n",
    "    # Loop through each sentence to find center words and context words \n",
    "    for sentence in sentences: \n",
    "        for i in range(len(sentence)): \n",
    "            center_word = [0 for x in range(V)] \n",
    "            center_word[vocab[sentence[i]]] = 1\n",
    "            \n",
    "            # Get the context words from the sliding window \n",
    "            context = [0 for x in range(V)]\n",
    "            for j in range(i-w2v.window_size, i+w2v.window_size): \n",
    "                if i!=j and j>=0 and j<len(sentence): \n",
    "                    context[vocab[sentence[j]]] += 1\n",
    "                    \n",
    "            w2v.X_train.append(center_word) \n",
    "            w2v.y_train.append(context)\n",
    "            \n",
    "    w2v.initialize(V, data)\n",
    "    \n",
    "    print('\\nSize of X_train and y_train is:', len(w2v.X_train), len(w2v.y_train))\n",
    "    \n",
    "    print('\\nX_train is:', w2v.X_train, '\\n\\ny_train is:', w2v.y_train)\n",
    "    \n",
    "    return w2v.X_train, w2v.y_train"
   ]
  },
  {
   "cell_type": "markdown",
   "metadata": {},
   "source": [
    "## Run the model"
   ]
  },
  {
   "cell_type": "code",
   "execution_count": 71,
   "metadata": {},
   "outputs": [
    {
     "name": "stdout",
     "output_type": "stream",
     "text": [
      "\n",
      "------GENERATE TRANING DATA------\n",
      "\n",
      "Vocabulary is: {'computer': 0, 'department': 1, 'faculty': 2, 'great': 3, 'professors': 4, 'program': 5, 'science': 6, 'students': 7, 'today': 8, 'we': 9, 'welcome': 10} \n",
      "\n",
      "\n",
      "Vocabulary size is (V): 11 \n",
      "\n",
      "\n",
      "----INITIALIZE FUNCTION------\n",
      "\n",
      "Size of W and W1 are:  (11, 10) (10, 11)\n",
      "\n",
      "Size of X_train and y_train is: 13 13\n",
      "\n",
      "X_train is: [[0, 0, 0, 0, 0, 0, 0, 0, 0, 0, 1], [0, 0, 0, 0, 0, 0, 0, 1, 0, 0, 0], [0, 1, 0, 0, 0, 0, 0, 0, 0, 0, 0], [1, 0, 0, 0, 0, 0, 0, 0, 0, 0, 0], [0, 0, 0, 0, 0, 0, 1, 0, 0, 0, 0], [0, 0, 0, 0, 0, 0, 0, 0, 0, 1, 0], [0, 0, 0, 1, 0, 0, 0, 0, 0, 0, 0], [0, 0, 1, 0, 0, 0, 0, 0, 0, 0, 0], [0, 0, 0, 0, 1, 0, 0, 0, 0, 0, 0], [0, 0, 0, 0, 0, 0, 0, 0, 0, 1, 0], [0, 0, 0, 0, 0, 0, 0, 0, 0, 0, 1], [0, 0, 0, 0, 0, 1, 0, 0, 0, 0, 0], [0, 0, 0, 0, 0, 0, 0, 0, 1, 0, 0]] \n",
      "\n",
      "y_train is: [[0, 0, 0, 0, 0, 0, 0, 1, 0, 0, 0], [0, 1, 0, 0, 0, 0, 0, 0, 0, 0, 1], [1, 0, 0, 0, 0, 0, 0, 1, 0, 0, 1], [0, 1, 0, 0, 0, 0, 1, 1, 0, 0, 0], [1, 1, 0, 0, 0, 0, 0, 0, 0, 0, 0], [0, 0, 0, 1, 0, 0, 0, 0, 0, 0, 0], [0, 0, 1, 0, 0, 0, 0, 0, 0, 1, 0], [0, 0, 0, 1, 1, 0, 0, 0, 0, 1, 0], [0, 0, 1, 1, 0, 0, 0, 0, 0, 0, 0], [0, 0, 0, 0, 0, 0, 0, 0, 0, 0, 1], [0, 0, 0, 0, 0, 1, 0, 0, 0, 1, 0], [0, 0, 0, 0, 0, 0, 0, 0, 1, 1, 1], [0, 0, 0, 0, 0, 1, 0, 0, 0, 0, 1]]\n"
     ]
    },
    {
     "ename": "ValueError",
     "evalue": "low >= high",
     "output_type": "error",
     "traceback": [
      "\u001b[1;31m---------------------------------------------------------------------------\u001b[0m",
      "\u001b[1;31mValueError\u001b[0m                                Traceback (most recent call last)",
      "\u001b[1;32m<ipython-input-71-cad03ba106b8>\u001b[0m in \u001b[0;36m<module>\u001b[1;34m\u001b[0m\n\u001b[0;32m     11\u001b[0m \u001b[1;33m\u001b[0m\u001b[0m\n\u001b[0;32m     12\u001b[0m \u001b[1;31m# Train the model\u001b[0m\u001b[1;33m\u001b[0m\u001b[1;33m\u001b[0m\u001b[1;33m\u001b[0m\u001b[0m\n\u001b[1;32m---> 13\u001b[1;33m \u001b[0mw2v\u001b[0m\u001b[1;33m.\u001b[0m\u001b[0mtrain\u001b[0m\u001b[1;33m(\u001b[0m\u001b[0mepochs\u001b[0m\u001b[1;33m)\u001b[0m\u001b[1;33m\u001b[0m\u001b[1;33m\u001b[0m\u001b[0m\n\u001b[0m\u001b[0;32m     14\u001b[0m \u001b[1;33m\u001b[0m\u001b[0m\n\u001b[0;32m     15\u001b[0m \u001b[1;31m# Predict using model\u001b[0m\u001b[1;33m\u001b[0m\u001b[1;33m\u001b[0m\u001b[1;33m\u001b[0m\u001b[0m\n",
      "\u001b[1;32m<ipython-input-65-05b3c24aace2>\u001b[0m in \u001b[0;36mtrain\u001b[1;34m(self, learning_rate, epochs)\u001b[0m\n\u001b[0;32m     68\u001b[0m \u001b[1;33m\u001b[0m\u001b[0m\n\u001b[0;32m     69\u001b[0m             \u001b[1;31m# Pick a random index\u001b[0m\u001b[1;33m\u001b[0m\u001b[1;33m\u001b[0m\u001b[1;33m\u001b[0m\u001b[0m\n\u001b[1;32m---> 70\u001b[1;33m             \u001b[0mindex\u001b[0m \u001b[1;33m=\u001b[0m \u001b[0mnp\u001b[0m\u001b[1;33m.\u001b[0m\u001b[0mrandom\u001b[0m\u001b[1;33m.\u001b[0m\u001b[0mrandint\u001b[0m\u001b[1;33m(\u001b[0m\u001b[0my_real\u001b[0m\u001b[1;33m)\u001b[0m\u001b[1;33m\u001b[0m\u001b[1;33m\u001b[0m\u001b[0m\n\u001b[0m\u001b[0;32m     71\u001b[0m             \u001b[0mprint\u001b[0m\u001b[1;33m(\u001b[0m\u001b[0mindex\u001b[0m\u001b[1;33m)\u001b[0m\u001b[1;33m\u001b[0m\u001b[1;33m\u001b[0m\u001b[0m\n\u001b[0;32m     72\u001b[0m \u001b[1;33m\u001b[0m\u001b[0m\n",
      "\u001b[1;32mmtrand.pyx\u001b[0m in \u001b[0;36mnumpy.random.mtrand.RandomState.randint\u001b[1;34m()\u001b[0m\n",
      "\u001b[1;32mbounded_integers.pyx\u001b[0m in \u001b[0;36mnumpy.random.bounded_integers._rand_int32\u001b[1;34m()\u001b[0m\n",
      "\u001b[1;32mbounded_integers.pyx\u001b[0m in \u001b[0;36mnumpy.random.bounded_integers._rand_int32_broadcast\u001b[1;34m()\u001b[0m\n",
      "\u001b[1;31mValueError\u001b[0m: low >= high"
     ]
    }
   ],
   "source": [
    "text_corpus = \"Welcome students to the Department of Computer Science. We have great faculty and professors. We will have a welcome program today.\"\n",
    "\n",
    "# Number of epochs\n",
    "epochs = 1000\n",
    "\n",
    "# Data preprocessing  \n",
    "training_data = preprocessing(text_corpus)\n",
    "\n",
    "# Word2Vec\n",
    "w2v = word2vec()\n",
    "\n",
    "# Train the model\n",
    "w2v.train(epochs)\n",
    "\n",
    "# Predict using model  \n",
    "print('\\nThe predicted context words are', w2v.predict(\"welcome\", 5))"
   ]
  },
  {
   "cell_type": "code",
   "execution_count": 17,
   "metadata": {},
   "outputs": [
    {
     "ename": "NameError",
     "evalue": "name 'y_real' is not defined",
     "output_type": "error",
     "traceback": [
      "\u001b[1;31m---------------------------------------------------------------------------\u001b[0m",
      "\u001b[1;31mNameError\u001b[0m                                 Traceback (most recent call last)",
      "\u001b[1;32m<ipython-input-17-2ceccb078bf8>\u001b[0m in \u001b[0;36m<module>\u001b[1;34m\u001b[0m\n\u001b[1;32m----> 1\u001b[1;33m \u001b[0my_real\u001b[0m\u001b[1;33m.\u001b[0m\u001b[0mshape\u001b[0m\u001b[1;33m(\u001b[0m\u001b[1;33m)\u001b[0m\u001b[1;33m\u001b[0m\u001b[1;33m\u001b[0m\u001b[0m\n\u001b[0m",
      "\u001b[1;31mNameError\u001b[0m: name 'y_real' is not defined"
     ]
    }
   ],
   "source": []
  },
  {
   "cell_type": "code",
   "execution_count": null,
   "metadata": {},
   "outputs": [],
   "source": []
  }
 ],
 "metadata": {
  "kernelspec": {
   "display_name": "Python 3",
   "language": "python",
   "name": "python3"
  },
  "language_info": {
   "codemirror_mode": {
    "name": "ipython",
    "version": 3
   },
   "file_extension": ".py",
   "mimetype": "text/x-python",
   "name": "python",
   "nbconvert_exporter": "python",
   "pygments_lexer": "ipython3",
   "version": "3.7.5"
  }
 },
 "nbformat": 4,
 "nbformat_minor": 2
}
