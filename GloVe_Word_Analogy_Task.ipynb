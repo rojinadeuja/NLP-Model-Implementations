{
  "nbformat": 4,
  "nbformat_minor": 0,
  "metadata": {
    "colab": {
      "name": "GloVe-Word-Analogy-Task.ipynb",
      "provenance": [],
      "authorship_tag": "ABX9TyPpUASrpUKYMnOR+BW0krpq",
      "include_colab_link": true
    },
    "kernelspec": {
      "name": "python3",
      "display_name": "Python 3"
    }
  },
  "cells": [
    {
      "cell_type": "markdown",
      "metadata": {
        "id": "view-in-github",
        "colab_type": "text"
      },
      "source": [
        "<a href=\"https://colab.research.google.com/github/rojinadeuja/NLP-Model-Implementations/blob/master/GloVe_Word_Analogy_Task.ipynb\" target=\"_parent\"><img src=\"https://colab.research.google.com/assets/colab-badge.svg\" alt=\"Open In Colab\"/></a>"
      ]
    },
    {
      "cell_type": "code",
      "metadata": {
        "id": "xBOmEp_zYY06",
        "colab_type": "code",
        "colab": {
          "base_uri": "https://localhost:8080/",
          "height": 54
        },
        "outputId": "cd0f25b5-6e86-4971-8b1d-9d1f5813f61b"
      },
      "source": [
        "from google.colab import drive\n",
        "drive.mount('/content/drive')"
      ],
      "execution_count": 24,
      "outputs": [
        {
          "output_type": "stream",
          "text": [
            "Drive already mounted at /content/drive; to attempt to forcibly remount, call drive.mount(\"/content/drive\", force_remount=True).\n"
          ],
          "name": "stdout"
        }
      ]
    },
    {
      "cell_type": "code",
      "metadata": {
        "id": "sPzDO_rZYrlH",
        "colab_type": "code",
        "colab": {}
      },
      "source": [
        "import pandas as pd\n",
        "import numpy as np\n",
        "import torch\n",
        "import torchtext"
      ],
      "execution_count": 26,
      "outputs": []
    },
    {
      "cell_type": "code",
      "metadata": {
        "id": "dvN2yv6lyrBX",
        "colab_type": "code",
        "colab": {}
      },
      "source": [
        "def load_vectors(file):\n",
        "    '''Function to load the the word embedding matrix values'''\n",
        "    with open(file, 'r', encoding=\"utf-8\") as file:\n",
        "        # unique words\n",
        "        words = set()\n",
        "        word_to_vec = {}\n",
        "        # each line starts with a word then the values for the different features\n",
        "        for line in file:\n",
        "            line = line.strip().split()\n",
        "            # take the word \n",
        "            curr_word = line[0]\n",
        "            words.add(curr_word)\n",
        "            # rest of the features for the word\n",
        "            word_to_vec[curr_word] = np.array(line[1:], dtype=np.float64)\n",
        "            \n",
        "    return words, word_to_vec"
      ],
      "execution_count": 31,
      "outputs": []
    },
    {
      "cell_type": "code",
      "metadata": {
        "id": "GxfqCw99-f-f",
        "colab_type": "code",
        "colab": {}
      },
      "source": [
        "# Get the words and their vectors from the Wikipedia 2014 dataset (6 Billions) and emedding size = 100\n",
        "words, word_to_vec = load_vectors('/content/drive/My Drive/Colab Notebooks/glove.6B.100d.txt')"
      ],
      "execution_count": 37,
      "outputs": []
    },
    {
      "cell_type": "code",
      "metadata": {
        "id": "SZPxwi84_0K6",
        "colab_type": "code",
        "colab": {}
      },
      "source": [
        "def cosine_similarity(u, v):\n",
        "    '''Function to find the cosine similarity between two word vectors'''\n",
        "    distance = 0.0\n",
        "    \n",
        "    # find the dot product between u and v \n",
        "    dot = np.dot(u,v)\n",
        "    # find the L2 norm of u \n",
        "    norm_u = np.sqrt(np.sum(u**2))\n",
        "    # Compute the L2 norm of v\n",
        "    norm_v = np.sqrt(np.sum(v**2))\n",
        "    # Compute the cosine similarity\n",
        "    cosine_sim = dot/(norm_u)/norm_v\n",
        "    \n",
        "    return cosine_sim"
      ],
      "execution_count": 41,
      "outputs": []
    },
    {
      "cell_type": "code",
      "metadata": {
        "id": "ZFNDjjvC_4Ui",
        "colab_type": "code",
        "colab": {
          "base_uri": "https://localhost:8080/",
          "height": 84
        },
        "outputId": "d4b203fb-f893-4b65-f46f-2136a1de30db"
      },
      "source": [
        "# Get some sample word vectors and find their cosine similarity\n",
        "nepal = word_to_vec[\"nepal\"]\n",
        "kathmandu = word_to_vec[\"kathmandu\"]\n",
        "print(\"\\nThe cosine similarity between Nepal and Kathmandu is\", cosine_similarity(nepal, kathmandu))\n",
        "\n",
        "nepal = word_to_vec[\"nepal\"]\n",
        "sea = word_to_vec[\"paris\"]\n",
        "print(\"\\nThe cosine similarity between Nepal and Paris is\", cosine_similarity(nepal, sea))"
      ],
      "execution_count": 55,
      "outputs": [
        {
          "output_type": "stream",
          "text": [
            "\n",
            "The cosine similarity between Nepal and Kathmandu is 0.7068282980813972\n",
            "\n",
            "The cosine similarity between Nepal and Paris is 0.09641994220643965\n"
          ],
          "name": "stdout"
        }
      ]
    },
    {
      "cell_type": "code",
      "metadata": {
        "id": "ONiCh5MGBOhE",
        "colab_type": "code",
        "colab": {
          "base_uri": "https://localhost:8080/",
          "height": 34
        },
        "outputId": "2cd2bbf5-41aa-4fb9-a86d-856c02f5070e"
      },
      "source": [
        ""
      ],
      "execution_count": 42,
      "outputs": [
        {
          "output_type": "stream",
          "text": [
            "0.7068282980813972\n"
          ],
          "name": "stdout"
        }
      ]
    },
    {
      "cell_type": "code",
      "metadata": {
        "id": "wYU2CfvwBeez",
        "colab_type": "code",
        "colab": {}
      },
      "source": [
        ""
      ],
      "execution_count": null,
      "outputs": []
    }
  ]
}