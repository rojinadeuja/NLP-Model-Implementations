{
  "nbformat": 4,
  "nbformat_minor": 0,
  "metadata": {
    "colab": {
      "name": "Word2Vec-using-Spacy-IMDB.ipynb",
      "provenance": [],
      "authorship_tag": "ABX9TyMso1GiT5ekdP9qx6M1+PiV",
      "include_colab_link": true
    },
    "kernelspec": {
      "name": "python3",
      "display_name": "Python 3"
    }
  },
  "cells": [
    {
      "cell_type": "markdown",
      "metadata": {
        "id": "view-in-github",
        "colab_type": "text"
      },
      "source": [
        "<a href=\"https://colab.research.google.com/github/rojinadeuja/NLP-Model-Implementations/blob/master/Word2Vec_using_Spacy_IMDB.ipynb\" target=\"_parent\"><img src=\"https://colab.research.google.com/assets/colab-badge.svg\" alt=\"Open In Colab\"/></a>"
      ]
    },
    {
      "cell_type": "markdown",
      "metadata": {
        "id": "M85WTYO4wMjG"
      },
      "source": [
        "## Load the spacy model\n",
        "We use the larger-than-standard  en_core_web_md library, which includes 20k unique vectors with 300 dimensions"
      ]
    },
    {
      "cell_type": "code",
      "metadata": {
        "id": "pwBXtWyUvhXq"
      },
      "source": [
        "import spacy\n",
        "# Load the spacy model that you have installed\n",
        "nlp = spacy.load('en_core_web_md')"
      ],
      "execution_count": 2,
      "outputs": []
    },
    {
      "cell_type": "code",
      "metadata": {
        "id": "JUdLUzD4wCDm"
      },
      "source": [
        ""
      ],
      "execution_count": null,
      "outputs": []
    }
  ]
}