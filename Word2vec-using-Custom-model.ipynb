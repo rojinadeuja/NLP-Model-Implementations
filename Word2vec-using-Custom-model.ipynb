{
  "nbformat": 4,
  "nbformat_minor": 0,
  "metadata": {
    "colab": {
      "name": "Word2vec-using-Keras-IMDB.ipynb",
      "provenance": [],
      "authorship_tag": "ABX9TyOIXMNLSvvBV0A6P0j2bZC9",
      "include_colab_link": true
    },
    "kernelspec": {
      "name": "python3",
      "display_name": "Python 3"
    }
  },
  "cells": [
    {
      "cell_type": "markdown",
      "metadata": {
        "id": "view-in-github",
        "colab_type": "text"
      },
      "source": [
        "<a href=\"https://colab.research.google.com/github/rojinadeuja/NLP-Model-Implementations/blob/master/Word2vec-using-Custom-model.ipynb\" target=\"_parent\"><img src=\"https://colab.research.google.com/assets/colab-badge.svg\" alt=\"Open In Colab\"/></a>"
      ]
    },
    {
      "cell_type": "code",
      "metadata": {
        "id": "x1OPLRTEPW7k",
        "outputId": "25e6a2a4-2013-4978-fada-d010ea90d3b9",
        "colab": {
          "base_uri": "https://localhost:8080/",
          "height": 33
        }
      },
      "source": [
        "from google.colab import drive\n",
        "drive.mount('/content/drive')"
      ],
      "execution_count": 1,
      "outputs": [
        {
          "output_type": "stream",
          "text": [
            "Drive already mounted at /content/drive; to attempt to forcibly remount, call drive.mount(\"/content/drive\", force_remount=True).\n"
          ],
          "name": "stdout"
        }
      ]
    },
    {
      "cell_type": "markdown",
      "metadata": {
        "id": "Teh6lFGIPo1R"
      },
      "source": [
        "## Import Modules"
      ]
    },
    {
      "cell_type": "code",
      "metadata": {
        "id": "FzLvrWAnPnup"
      },
      "source": [
        "import pandas as pd\n",
        "import numpy as np\n",
        "import re\n",
        "import nltk\n",
        "from nltk.corpus import stopwords\n",
        "\n",
        "from keras.preprocessing.text import one_hot\n",
        "from keras.preprocessing.sequence import pad_sequences\n",
        "from keras.models import Sequential\n",
        "from keras.layers.core import Activation, Dropout, Dense\n",
        "from keras.layers import Flatten\n",
        "from keras.layers import GlobalMaxPooling1D\n",
        "from keras.layers.embeddings import Embedding\n",
        "from keras.preprocessing.text import Tokenizer\n",
        "\n",
        "from sklearn.model_selection import train_test_split"
      ],
      "execution_count": 2,
      "outputs": []
    },
    {
      "cell_type": "markdown",
      "metadata": {
        "id": "DXzV7aaKEytL"
      },
      "source": [
        "## Load Custom model"
      ]
    },
    {
      "cell_type": "code",
      "metadata": {
        "id": "_bS3WLQcWdN3",
        "outputId": "be69cb0d-1ca7-4ed1-b1c8-2c3c1b25c6a1",
        "colab": {
          "base_uri": "https://localhost:8080/",
          "height": 70
        }
      },
      "source": [
        "from gensim.models import KeyedVectors\n",
        "\n",
        "# Load custom vectors directly from the file\n",
        "model = KeyedVectors.load_word2vec_format('/content/drive/My Drive/Colab Notebooks/en_imdb_word2vec_300.txt', binary=False)"
      ],
      "execution_count": 3,
      "outputs": [
        {
          "output_type": "stream",
          "text": [
            "/usr/local/lib/python3.6/dist-packages/smart_open/smart_open_lib.py:252: UserWarning: This function is deprecated, use smart_open.open instead. See the migration notes for details: https://github.com/RaRe-Technologies/smart_open/blob/master/README.rst#migrating-to-the-new-open-function\n",
            "  'See the migration notes for details: %s' % _MIGRATION_NOTES_URL\n"
          ],
          "name": "stderr"
        }
      ]
    },
    {
      "cell_type": "code",
      "metadata": {
        "id": "IleqVnBeFEKz",
        "outputId": "4d92c479-b132-4c86-ddaa-7de4441725a4",
        "colab": {
          "base_uri": "https://localhost:8080/",
          "height": 33
        }
      },
      "source": [
        "# Vocabulary size of the custom model\n",
        "len(model.vocab)"
      ],
      "execution_count": 4,
      "outputs": [
        {
          "output_type": "execute_result",
          "data": {
            "text/plain": [
              "11727"
            ]
          },
          "metadata": {
            "tags": []
          },
          "execution_count": 4
        }
      ]
    },
    {
      "cell_type": "code",
      "metadata": {
        "id": "FAWGqNNAFJyZ",
        "outputId": "33706254-2744-4742-de0f-bf1d826354c6",
        "colab": {
          "base_uri": "https://localhost:8080/",
          "height": 87
        }
      },
      "source": [
        "# Check similarity between words in model\n",
        "model.similarity('simple', 'impossible')"
      ],
      "execution_count": 5,
      "outputs": [
        {
          "output_type": "stream",
          "text": [
            "/usr/local/lib/python3.6/dist-packages/gensim/matutils.py:737: FutureWarning: Conversion of the second argument of issubdtype from `int` to `np.signedinteger` is deprecated. In future, it will be treated as `np.int64 == np.dtype(int).type`.\n",
            "  if np.issubdtype(vec.dtype, np.int):\n"
          ],
          "name": "stderr"
        },
        {
          "output_type": "execute_result",
          "data": {
            "text/plain": [
              "0.16050674"
            ]
          },
          "metadata": {
            "tags": []
          },
          "execution_count": 5
        }
      ]
    },
    {
      "cell_type": "markdown",
      "metadata": {
        "id": "jJaijFRMofh-"
      },
      "source": [
        "## Load Datatset"
      ]
    },
    {
      "cell_type": "code",
      "metadata": {
        "id": "g7goI5YqP4GE",
        "outputId": "f7bfbc63-1ae7-42c2-8862-8cc157f13e30",
        "colab": {
          "base_uri": "https://localhost:8080/",
          "height": 196
        }
      },
      "source": [
        "df = pd.read_csv('/content/drive/My Drive/Colab Notebooks/IMDB.csv')\n",
        "df.replace(['positive', 'negative'], [1, 0], inplace=True)\n",
        "df.head()"
      ],
      "execution_count": 6,
      "outputs": [
        {
          "output_type": "execute_result",
          "data": {
            "text/html": [
              "<div>\n",
              "<style scoped>\n",
              "    .dataframe tbody tr th:only-of-type {\n",
              "        vertical-align: middle;\n",
              "    }\n",
              "\n",
              "    .dataframe tbody tr th {\n",
              "        vertical-align: top;\n",
              "    }\n",
              "\n",
              "    .dataframe thead th {\n",
              "        text-align: right;\n",
              "    }\n",
              "</style>\n",
              "<table border=\"1\" class=\"dataframe\">\n",
              "  <thead>\n",
              "    <tr style=\"text-align: right;\">\n",
              "      <th></th>\n",
              "      <th>review</th>\n",
              "      <th>sentiment</th>\n",
              "    </tr>\n",
              "  </thead>\n",
              "  <tbody>\n",
              "    <tr>\n",
              "      <th>0</th>\n",
              "      <td>One of the other reviewers has mentioned that ...</td>\n",
              "      <td>1</td>\n",
              "    </tr>\n",
              "    <tr>\n",
              "      <th>1</th>\n",
              "      <td>A wonderful little production. &lt;br /&gt;&lt;br /&gt;The...</td>\n",
              "      <td>1</td>\n",
              "    </tr>\n",
              "    <tr>\n",
              "      <th>2</th>\n",
              "      <td>I thought this was a wonderful way to spend ti...</td>\n",
              "      <td>1</td>\n",
              "    </tr>\n",
              "    <tr>\n",
              "      <th>3</th>\n",
              "      <td>Basically there's a family where a little boy ...</td>\n",
              "      <td>0</td>\n",
              "    </tr>\n",
              "    <tr>\n",
              "      <th>4</th>\n",
              "      <td>Petter Mattei's \"Love in the Time of Money\" is...</td>\n",
              "      <td>1</td>\n",
              "    </tr>\n",
              "  </tbody>\n",
              "</table>\n",
              "</div>"
            ],
            "text/plain": [
              "                                              review  sentiment\n",
              "0  One of the other reviewers has mentioned that ...          1\n",
              "1  A wonderful little production. <br /><br />The...          1\n",
              "2  I thought this was a wonderful way to spend ti...          1\n",
              "3  Basically there's a family where a little boy ...          0\n",
              "4  Petter Mattei's \"Love in the Time of Money\" is...          1"
            ]
          },
          "metadata": {
            "tags": []
          },
          "execution_count": 6
        }
      ]
    },
    {
      "cell_type": "markdown",
      "metadata": {
        "id": "yBzGy7eoolQR"
      },
      "source": [
        "## Data Pre-processing"
      ]
    },
    {
      "cell_type": "code",
      "metadata": {
        "id": "JoBoDWNvS47A"
      },
      "source": [
        "def preprocess(s):\n",
        "    '''Function for data pre-processing'''\n",
        "    # Removing html tags\n",
        "    TAG_RE = re.compile(r'<[^>]+>')\n",
        "    sentence = TAG_RE.sub('', s)\n",
        "    \n",
        "    # Remove punctuations and numbers\n",
        "    sentence = re.sub('[^a-zA-Z]', ' ', sentence)\n",
        "\n",
        "    # Single character removal\n",
        "    sentence = re.sub(r\"\\s+[a-zA-Z]\\s+\", ' ', sentence)\n",
        "\n",
        "    # Removing multiple spaces\n",
        "    sentence = re.sub(r'\\s+', ' ', sentence)\n",
        "\n",
        "    return sentence"
      ],
      "execution_count": 7,
      "outputs": []
    },
    {
      "cell_type": "markdown",
      "metadata": {
        "id": "IIiuICDWopwf"
      },
      "source": [
        "## Create X and y matrices"
      ]
    },
    {
      "cell_type": "code",
      "metadata": {
        "id": "9_FNd6wLS68Z"
      },
      "source": [
        "X = []\n",
        "sentences = list(df['review'])\n",
        "for sentence in sentences:\n",
        "    X.append(preprocess(sentence))\n",
        "\n",
        "y = df['sentiment']"
      ],
      "execution_count": 8,
      "outputs": []
    },
    {
      "cell_type": "markdown",
      "metadata": {
        "id": "IcxPOZUIotqB"
      },
      "source": [
        "## Split dataset into train and test"
      ]
    },
    {
      "cell_type": "code",
      "metadata": {
        "id": "IyqEvzwvTdA4",
        "outputId": "9df17226-361c-4d48-db44-facfb7543912",
        "colab": {
          "base_uri": "https://localhost:8080/",
          "height": 33
        }
      },
      "source": [
        "# Create train-test splits\n",
        "X_train, X_test, y_train, y_test = train_test_split(X, y, test_size=0.20, random_state=42)\n",
        "print(len(X_train), len(X_test), len(y_train), len(y_test))"
      ],
      "execution_count": 9,
      "outputs": [
        {
          "output_type": "stream",
          "text": [
            "40000 10000 40000 10000\n"
          ],
          "name": "stdout"
        }
      ]
    },
    {
      "cell_type": "code",
      "metadata": {
        "id": "Jo0IdqyYT-36",
        "outputId": "bf7d3572-281d-4b96-9313-c1cf44e0c1a6",
        "colab": {
          "base_uri": "https://localhost:8080/",
          "height": 33
        }
      },
      "source": [
        "# Convert into numpy arrays for processing with tensorflo\n",
        "y_train = np.array(y_train)\n",
        "y_test = np.array(y_test)\n",
        "print(type(X_train), type(X_test), type(y_train), type(y_test))"
      ],
      "execution_count": 10,
      "outputs": [
        {
          "output_type": "stream",
          "text": [
            "<class 'list'> <class 'list'> <class 'numpy.ndarray'> <class 'numpy.ndarray'>\n"
          ],
          "name": "stdout"
        }
      ]
    },
    {
      "cell_type": "markdown",
      "metadata": {
        "id": "j7Wi5tzkoxHn"
      },
      "source": [
        "## Tokenize the data"
      ]
    },
    {
      "cell_type": "code",
      "metadata": {
        "id": "iHopILhbUAGx"
      },
      "source": [
        "# Tokenize the text\n",
        "tokenizer = Tokenizer(num_words=5000)\n",
        "tokenizer.fit_on_texts(X_train)\n",
        "\n",
        "X_train = tokenizer.texts_to_sequences(X_train)\n",
        "X_test = tokenizer.texts_to_sequences(X_test)"
      ],
      "execution_count": 11,
      "outputs": []
    },
    {
      "cell_type": "code",
      "metadata": {
        "id": "lkN09y0EUF-e"
      },
      "source": [
        "# Adding 1 because of reserved 0 index\n",
        "vocab_size = len(tokenizer.word_index) + 1\n",
        "\n",
        "maxlen = 300\n",
        "\n",
        "X_train = pad_sequences(X_train, padding='post', maxlen=maxlen)\n",
        "X_test = pad_sequences(X_test, padding='post', maxlen=maxlen)"
      ],
      "execution_count": 12,
      "outputs": []
    },
    {
      "cell_type": "markdown",
      "metadata": {
        "id": "Os_bg7sMo1Pd"
      },
      "source": [
        "## Create Embeddings"
      ]
    },
    {
      "cell_type": "code",
      "metadata": {
        "id": "2rbVhTHmZnrG",
        "outputId": "84790dc4-45eb-4c83-9c63-29ed348eeefc",
        "colab": {
          "base_uri": "https://localhost:8080/",
          "height": 117
        }
      },
      "source": [
        "embedding_matrix = np.zeros((len(model.wv.vocab), 300)) # vector_dim =300\n",
        "for i in range(len(model.wv.vocab)):\n",
        "    embedding_vector = model.wv[model.wv.index2word[i]]\n",
        "    if embedding_vector is not None:\n",
        "        embedding_matrix[i] = embedding_vector"
      ],
      "execution_count": 13,
      "outputs": [
        {
          "output_type": "stream",
          "text": [
            "/usr/local/lib/python3.6/dist-packages/ipykernel_launcher.py:1: DeprecationWarning: Call to deprecated `wv` (Attribute will be removed in 4.0.0, use self instead).\n",
            "  \"\"\"Entry point for launching an IPython kernel.\n",
            "/usr/local/lib/python3.6/dist-packages/ipykernel_launcher.py:2: DeprecationWarning: Call to deprecated `wv` (Attribute will be removed in 4.0.0, use self instead).\n",
            "  \n",
            "/usr/local/lib/python3.6/dist-packages/ipykernel_launcher.py:3: DeprecationWarning: Call to deprecated `wv` (Attribute will be removed in 4.0.0, use self instead).\n",
            "  This is separate from the ipykernel package so we can avoid doing imports until\n"
          ],
          "name": "stderr"
        }
      ]
    },
    {
      "cell_type": "markdown",
      "metadata": {
        "id": "ySnrYi7-cu-m"
      },
      "source": [
        "## Classification using a simple Neural Network"
      ]
    },
    {
      "cell_type": "code",
      "metadata": {
        "id": "oEZUUO90gUuz",
        "outputId": "eb1679a8-22aa-434e-9c57-4aee9ba274c6",
        "colab": {
          "base_uri": "https://localhost:8080/",
          "height": 50
        }
      },
      "source": [
        "# Text Classification with a Simple Neural Network\n",
        "vocab_size = len(model.wv.vocab)\n",
        "model = Sequential()\n",
        "embedding_layer = Embedding(vocab_size, 300, weights=[embedding_matrix], input_length=maxlen , trainable=False)\n",
        "model.add(embedding_layer)\n",
        "\n",
        "model.add(Flatten())\n",
        "model.add(Dense(1, activation='sigmoid'))"
      ],
      "execution_count": 14,
      "outputs": [
        {
          "output_type": "stream",
          "text": [
            "/usr/local/lib/python3.6/dist-packages/ipykernel_launcher.py:2: DeprecationWarning: Call to deprecated `wv` (Attribute will be removed in 4.0.0, use self instead).\n",
            "  \n"
          ],
          "name": "stderr"
        }
      ]
    },
    {
      "cell_type": "code",
      "metadata": {
        "id": "7Wbfw0NUggWX",
        "outputId": "094efce6-0abf-4a3c-baa8-e4a715b25def",
        "colab": {
          "base_uri": "https://localhost:8080/",
          "height": 268
        }
      },
      "source": [
        "model.compile(optimizer='adam', loss='binary_crossentropy', metrics=['acc'])\n",
        "\n",
        "print(model.summary())"
      ],
      "execution_count": 15,
      "outputs": [
        {
          "output_type": "stream",
          "text": [
            "Model: \"sequential\"\n",
            "_________________________________________________________________\n",
            "Layer (type)                 Output Shape              Param #   \n",
            "=================================================================\n",
            "embedding (Embedding)        (None, 300, 300)          3518100   \n",
            "_________________________________________________________________\n",
            "flatten (Flatten)            (None, 90000)             0         \n",
            "_________________________________________________________________\n",
            "dense (Dense)                (None, 1)                 90001     \n",
            "=================================================================\n",
            "Total params: 3,608,101\n",
            "Trainable params: 90,001\n",
            "Non-trainable params: 3,518,100\n",
            "_________________________________________________________________\n",
            "None\n"
          ],
          "name": "stdout"
        }
      ]
    },
    {
      "cell_type": "markdown",
      "metadata": {
        "id": "HSD9v6-ypEye"
      },
      "source": [
        "## Train the model"
      ]
    },
    {
      "cell_type": "code",
      "metadata": {
        "id": "WqIYrPdBhLFD",
        "outputId": "d10ce574-3e8e-49cb-c2d7-cfd8e654690b",
        "colab": {
          "base_uri": "https://localhost:8080/",
          "height": 351
        }
      },
      "source": [
        "# Train the model\n",
        "history = model.fit(X_train, y_train, batch_size=128, epochs=10, verbose=1, validation_split=0.2)"
      ],
      "execution_count": 16,
      "outputs": [
        {
          "output_type": "stream",
          "text": [
            "Epoch 1/10\n",
            "250/250 [==============================] - 10s 39ms/step - loss: 0.7134 - acc: 0.5698 - val_loss: 0.6515 - val_acc: 0.6279\n",
            "Epoch 2/10\n",
            "250/250 [==============================] - 10s 40ms/step - loss: 0.4396 - acc: 0.8161 - val_loss: 0.6676 - val_acc: 0.6244\n",
            "Epoch 3/10\n",
            "250/250 [==============================] - 9s 35ms/step - loss: 0.3315 - acc: 0.8867 - val_loss: 0.6789 - val_acc: 0.6352\n",
            "Epoch 4/10\n",
            "250/250 [==============================] - 9s 35ms/step - loss: 0.2614 - acc: 0.9267 - val_loss: 0.6810 - val_acc: 0.6463\n",
            "Epoch 5/10\n",
            "250/250 [==============================] - 10s 38ms/step - loss: 0.2136 - acc: 0.9510 - val_loss: 0.7058 - val_acc: 0.6440\n",
            "Epoch 6/10\n",
            "250/250 [==============================] - 10s 39ms/step - loss: 0.1763 - acc: 0.9665 - val_loss: 0.7800 - val_acc: 0.6270\n",
            "Epoch 7/10\n",
            "250/250 [==============================] - 9s 36ms/step - loss: 0.1497 - acc: 0.9766 - val_loss: 0.7639 - val_acc: 0.6419\n",
            "Epoch 8/10\n",
            "250/250 [==============================] - 9s 37ms/step - loss: 0.1304 - acc: 0.9812 - val_loss: 0.8137 - val_acc: 0.6400\n",
            "Epoch 9/10\n",
            "250/250 [==============================] - 10s 40ms/step - loss: 0.1141 - acc: 0.9864 - val_loss: 0.8248 - val_acc: 0.6382\n",
            "Epoch 10/10\n",
            "250/250 [==============================] - 9s 37ms/step - loss: 0.0990 - acc: 0.9903 - val_loss: 0.8573 - val_acc: 0.6379\n"
          ],
          "name": "stdout"
        }
      ]
    },
    {
      "cell_type": "markdown",
      "metadata": {
        "id": "MrJyXOpFpI4f"
      },
      "source": [
        "## Evaluate model on test data"
      ]
    },
    {
      "cell_type": "code",
      "metadata": {
        "id": "nB5hrbEdjSEg",
        "outputId": "67e06a33-7022-47e2-ded7-4685ae43e46a",
        "colab": {
          "base_uri": "https://localhost:8080/",
          "height": 67
        }
      },
      "source": [
        "# Evaluate the model\n",
        "score = model.evaluate(X_test, y_test, verbose=1)\n",
        "print(\"\\nTest Accuracy:\", score[1])"
      ],
      "execution_count": 17,
      "outputs": [
        {
          "output_type": "stream",
          "text": [
            "313/313 [==============================] - 2s 8ms/step - loss: 0.8390 - acc: 0.6444\n",
            "\n",
            "Test Accuracy: 0.6444000005722046\n"
          ],
          "name": "stdout"
        }
      ]
    }
  ]
}